{
 "cells": [
  {
   "cell_type": "markdown",
   "metadata": {},
   "source": [
    "# Linked List (연결 리스트)"
   ]
  },
  {
   "cell_type": "markdown",
   "metadata": {},
   "source": [
    "### 정의: \n",
    "연결 리스트는 데이터를 일직선으로 줄줄이 정렬한 데이터 구조입니다. 데이터의 추가나 삭제는 쉬운 반면, 원하는 데이터에 접근하는 시간은 오래 걸립니다."
   ]
  },
  {
   "cell_type": "markdown",
   "metadata": {},
   "source": [
    "### 구조: \n",
    "\n",
    "<img height=200px src='https://velog.velcdn.com/images%2Fwoojinn8%2Fpost%2Ff384a51f-73cb-4e99-82c0-5643470d7585%2F링크드리스트구조.PNG'>\n",
    "\n",
    "구조는 위의 그림과 같으며 각 데이터는 하나의 노드를 차지하며 각 데이터는 포인터를 가지고 있어서 다음 데이터의 메모리 주소를 가리킵니다."
   ]
  },
  {
   "cell_type": "markdown",
   "metadata": {},
   "source": [
    "### 배열과 비교:\n",
    "\n",
    "<img height='200px' src='https://img1.daumcdn.net/thumb/R1280x0/?scode=mtistory2&fname=https%3A%2F%2Fblog.kakaocdn.net%2Fdn%2FcLMZMC%2Fbtr7eWXfals%2Ff8N3JK2t7RBTHivsL1bNTK%2Fimg.png'>"
   ]
  },
  {
   "cell_type": "markdown",
   "metadata": {},
   "source": [
    "연결 리스트와 배열은 둘 다 데이터를 일렬로 나열하는 데이터 구조이나 조금 다릅니다. \n",
    "- `연결 리스트`는 데이터에 접근할 때 시간이 걸리지만 추가와 삭제는 간단합니다. \n",
    "- 반대로 `배열`은 데이터에 접근하기는 쉽지만 추가와 삭제에 시간이 많이 소요됩니다. \n",
    "\n",
    "어떤 데이터 구조를 사용할지는 어떤 작업을 더 빈번하게 사용할지를 고려해서 결정하면 됩니다.\n",
    "\n",
    "\n",
    "| | 접근 | 추가 | 삭제 |\n",
    "| --- | --- | --- | --- |\n",
    "| 연결 리스트 | 느림 | 빠름 | 빠름 |\n",
    "| 배열 | 빠름 | 느림 | 느림 |\n"
   ]
  },
  {
   "cell_type": "markdown",
   "metadata": {},
   "source": [
    "# 실습"
   ]
  },
  {
   "cell_type": "markdown",
   "metadata": {},
   "source": [
    "### 구조와 기능\n",
    "\n",
    "1. 연결 리스트 구조 및 노드 생성\n",
    "2. 노드 추가 / 삽입\n",
    "3. 연결 리스트 출력\n",
    "4. 노드 탐색 / 출력\n",
    "5. 노드 삭제\n",
    "6. 노드 개수 세기\n"
   ]
  },
  {
   "cell_type": "code",
   "execution_count": 5,
   "metadata": {},
   "outputs": [],
   "source": [
    "class Node:\n",
    "    def __init__(self, data=None, next=None) -> None:\n",
    "        self.data = data\n",
    "        self.next = next\n",
    "\n",
    "class LinkedList:\n",
    "    def __init__(self) -> None:\n",
    "        self.head = None\n",
    "    \n",
    "    def insert_at(self, index, data):\n",
    "        pass\n",
    "    \n",
    "    def print_ll(self):\n",
    "        pass\n",
    "    \n",
    "    def iloc(self, index):\n",
    "        pass\n",
    "    \n",
    "    def remove_at(self, index):\n",
    "        pass\n",
    "    \n",
    "    def get_len(self):\n",
    "        pass    "
   ]
  },
  {
   "cell_type": "markdown",
   "metadata": {},
   "source": [
    "### 연결 리스트 실행"
   ]
  },
  {
   "cell_type": "markdown",
   "metadata": {},
   "source": [
    "1. 연결 리스트 생성"
   ]
  },
  {
   "cell_type": "code",
   "execution_count": 6,
   "metadata": {},
   "outputs": [],
   "source": [
    "ll = LinkedList()"
   ]
  },
  {
   "cell_type": "markdown",
   "metadata": {},
   "source": [
    "2. 노드 추가 / 삽입"
   ]
  },
  {
   "cell_type": "code",
   "execution_count": null,
   "metadata": {},
   "outputs": [],
   "source": [
    "ll.insert_at(0, 1)\n",
    "ll.insert_at(1, 2)\n",
    "ll.insert_at(2, 3)\n",
    "ll.insert_at(3, 4)\n",
    "ll.insert_at(2, 2.5)"
   ]
  },
  {
   "cell_type": "markdown",
   "metadata": {},
   "source": [
    "3. 연결 리스트 출력\n",
    "\n",
    "expected output:  \n",
    "\n",
    "`1 -> 2 -> 2.5 -> 3 -> 4`"
   ]
  },
  {
   "cell_type": "code",
   "execution_count": null,
   "metadata": {},
   "outputs": [],
   "source": [
    "ll.print_ll()"
   ]
  },
  {
   "cell_type": "markdown",
   "metadata": {},
   "source": [
    "4. 노드 탐색 / 출력\n",
    "\n",
    "expected output:  \n",
    "\n",
    "`2.5`"
   ]
  },
  {
   "cell_type": "code",
   "execution_count": 7,
   "metadata": {},
   "outputs": [],
   "source": [
    "ll.iloc(2)"
   ]
  },
  {
   "cell_type": "markdown",
   "metadata": {},
   "source": [
    "5. 노드 삭제  \n",
    "\n",
    "expected output:  \n",
    "\n",
    "`1 -> 2 -> 3 -> 4`"
   ]
  },
  {
   "cell_type": "code",
   "execution_count": 8,
   "metadata": {},
   "outputs": [],
   "source": [
    "ll.remove_at(2)\n",
    "ll.print_ll()"
   ]
  },
  {
   "cell_type": "markdown",
   "metadata": {},
   "source": [
    "6. 노드 개수 세기\n",
    "\n",
    "expected output:\n",
    "\n",
    "`4`"
   ]
  },
  {
   "cell_type": "code",
   "execution_count": 9,
   "metadata": {},
   "outputs": [],
   "source": [
    "ll.get_len()"
   ]
  },
  {
   "cell_type": "markdown",
   "metadata": {},
   "source": [
    "# 심화 실습"
   ]
  },
  {
   "cell_type": "markdown",
   "metadata": {},
   "source": [
    "양방향 연결 리스트(Doubly Linked List)를 구현해보세요."
   ]
  },
  {
   "cell_type": "code",
   "execution_count": null,
   "metadata": {},
   "outputs": [],
   "source": [
    "class Node:\n",
    "    def __init__(self, data=None, prev=None, next=None) -> None:\n",
    "        self.prev = prev\n",
    "        self.data = data\n",
    "        self.next = next\n",
    "\n",
    "class DoublyLinkedList:\n",
    "    def __init__(self) -> None:\n",
    "        self.head = None\n",
    "    \n",
    "    def insert_at(self):\n",
    "        pass\n",
    "    \n",
    "    def print_forward(self):\n",
    "        pass\n",
    "    \n",
    "    def print_backward(self):\n",
    "        pass\n",
    "    \n",
    "    def iloc(self):\n",
    "        pass\n",
    "    \n",
    "    def remove_at(self):\n",
    "        pass\n",
    "    \n",
    "    def get_len(self):\n",
    "        pass    "
   ]
  },
  {
   "cell_type": "markdown",
   "metadata": {},
   "source": [
    "### 양방향 연결 리스트 실행"
   ]
  },
  {
   "cell_type": "markdown",
   "metadata": {},
   "source": [
    "1. 연결 리스트 생성"
   ]
  },
  {
   "cell_type": "code",
   "execution_count": null,
   "metadata": {},
   "outputs": [],
   "source": [
    "dll = DoublyLinkedList()"
   ]
  },
  {
   "cell_type": "markdown",
   "metadata": {},
   "source": [
    "2. 노드 추가 / 삽입"
   ]
  },
  {
   "cell_type": "code",
   "execution_count": null,
   "metadata": {},
   "outputs": [],
   "source": [
    "dll.insert_at(1, 2)\n",
    "dll.insert_at(2, 3)\n",
    "dll.insert_at(3, 4)\n",
    "dll.insert_at(0, 1)\n",
    "dll.insert_at(2, 2.5)"
   ]
  },
  {
   "cell_type": "markdown",
   "metadata": {},
   "source": [
    "3. 연결 리스트 출력\n",
    "\n",
    "expected output:  \n",
    "\n",
    "`1 -> 2 -> 2.5 -> 3 -> 4`  \n",
    "`4 -> 3 - > 2.5 -> 2 -> 1`"
   ]
  },
  {
   "cell_type": "code",
   "execution_count": null,
   "metadata": {},
   "outputs": [],
   "source": [
    "dll.print_forward()\n",
    "dll.print_backward()"
   ]
  },
  {
   "cell_type": "markdown",
   "metadata": {},
   "source": [
    "4. 노드 탐색 / 출력\n",
    "\n",
    "expected output:  \n",
    "\n",
    "`2.5`"
   ]
  },
  {
   "cell_type": "code",
   "execution_count": null,
   "metadata": {},
   "outputs": [],
   "source": [
    "dll.iloc(2)"
   ]
  },
  {
   "cell_type": "markdown",
   "metadata": {},
   "source": [
    "5. 노드 삭제  \n",
    "\n",
    "expected output:  \n",
    "\n",
    "`1 -> 2 -> 3 -> 4`  \n",
    "`4 -> 3 -> 2 -> 1`"
   ]
  },
  {
   "cell_type": "code",
   "execution_count": null,
   "metadata": {},
   "outputs": [],
   "source": [
    "dll.remove_at(2)\n",
    "dll.print_forward()\n",
    "dll.print_backward()"
   ]
  },
  {
   "cell_type": "markdown",
   "metadata": {},
   "source": [
    "6. 노드 개수 세기\n",
    "\n",
    "expected output:\n",
    "\n",
    "`4`"
   ]
  },
  {
   "cell_type": "code",
   "execution_count": null,
   "metadata": {},
   "outputs": [],
   "source": [
    "dll.get_len()"
   ]
  }
 ],
 "metadata": {
  "kernelspec": {
   "display_name": "Python 3",
   "language": "python",
   "name": "python3"
  },
  "language_info": {
   "codemirror_mode": {
    "name": "ipython",
    "version": 3
   },
   "file_extension": ".py",
   "mimetype": "text/x-python",
   "name": "python",
   "nbconvert_exporter": "python",
   "pygments_lexer": "ipython3",
   "version": "3.11.0"
  }
 },
 "nbformat": 4,
 "nbformat_minor": 2
}
