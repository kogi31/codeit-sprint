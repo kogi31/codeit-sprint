{
 "cells": [
  {
   "cell_type": "markdown",
   "metadata": {},
   "source": [
    "# Day 1"
   ]
  },
  {
   "cell_type": "markdown",
   "metadata": {},
   "source": [
    "### TODO\n",
    "1. 깃헙에 스터디 그룹 개인 코드 및 노트 보관용 레포지토리 생성.\n",
    "2. Big(O) Notation - 빅오 표기법의 시간 복잡도 공간 복잡도 간단하게 이해하기.\n",
    "3. 엄청 간단한 시간 복잡도 줄이는 케이스를 함께 보기 (수학, 자료 구조).\n",
    "4. 조금 더 복잡하지만 목표로 하는 자료구조는 그래프입니다.\n",
    "5. 기본적인 자료구조 array(배열), queue(큐), stack(스택), linked list(연결 리스트), hash table(해시 테이블) 알아보기."
   ]
  },
  {
   "cell_type": "markdown",
   "metadata": {},
   "source": [
    "## Big(O) 표기법이란?\n",
    "\n",
    "원래 Big(O), Big($\\Omega$), Big($\\Theta$)가 있는데 각자 시간과 공간 복잡도를 나타내는 방법들이다. \n",
    "\n",
    "서로 알고리즘 효율성을 측정하는데 기준이 다르다:  \n",
    "- Big(O)는 상한선 기준으로 표기\n",
    "- Big($\\Omega$)는 하한선 기준으로 표기\n",
    "- Big($\\Theta$)는 상한선과 하한선의 사이 (평균)으로 표기\n",
    "\n",
    "<img height=300px src='https://cdn.kastatic.org/ka-perseus-images/2bdc25c7eda8486d05b8031c5a63535684ecb5a1.png'>\n",
    "\n",
    "하지만, 사실상 표준 (관례? 관습?)은 Big(O) - 빅오 표기법이다.\n",
    "\n",
    "왜냐? 일단 프로그램이 운이 좋아서 빨리 돌아가면 다행이지만 그런 것은 현실에서 아무도 신경 안쓴다. 예를 들어, 차가 급발진 안한다고 그 브랜드를 칭찬하지 않는다 그건 당연하니까, 오류가 안나는게 베스트니까.\n",
    "\n",
    "그래서, 운이 안좋을 때도 다른 알고리즘 보다 빠른 알고리즘을 알고 사용하는 것이 중요하다.  \n",
    "즉, 빅오 시간 복잡도 / 공간 복잡도를 최소하 하는 것이 포인트다.\n",
    "\n",
    "<img height=400px src='https://miro.medium.com/v2/resize:fit:1400/1*5ZLci3SuR0zM_QlZOADv8Q.jpeg'>\n",
    "\n",
    "여기서 한 가지 예시를 들자면, "
   ]
  },
  {
   "cell_type": "markdown",
   "metadata": {},
   "source": [
    "## 수학의 중요성\n",
    "\n",
    "특정 방정식을 알고 있으면 잘 활용해서 시간 복잡도를 줄일 수 있다.\n",
    "\n",
    "우리 데이터분석가들은 미래에 머신러닝을 접하게 되면 수학공식을 많이 접할 수 밖에 없기 때문에, 아주 좋은 툴이 될 것이다.\n",
    "\n",
    "아래의 예시를 보며 간단하게 알아보죠."
   ]
  },
  {
   "cell_type": "markdown",
   "metadata": {},
   "source": [
    "만약에 배열의 합을 구한다고 해보면 저희가 배운 기본 방식으로는 for loop을 돌려서도 가능하죠?\n",
    "\n",
    "하지만 수학 공식을 알고 있다면 $\\frac{n(n_0 + n_{-1})}{2}$ 와 같은 방식으로도 풀 수 있습니다."
   ]
  },
  {
   "cell_type": "code",
   "execution_count": 4,
   "metadata": {},
   "outputs": [],
   "source": [
    "import time\n",
    "from utils import runtime_calculator, create_num_array"
   ]
  },
  {
   "cell_type": "code",
   "execution_count": 8,
   "metadata": {},
   "outputs": [
    {
     "name": "stdout",
     "output_type": "stream",
     "text": [
      "Function 'sum_for_loop' executed in: 0.034909 seconds\n",
      "250000000000\n",
      "Function 'sum_math_formula' executed in: 0.000006 seconds\n",
      "250000000000\n"
     ]
    }
   ],
   "source": [
    "@runtime_calculator\n",
    "def sum_for_loop(arr: list[int]) -> int:\n",
    "    total = 0\n",
    "    for num in arr:\n",
    "        total += num\n",
    "    return total\n",
    "\n",
    "@runtime_calculator\n",
    "def sum_math_formula(arr: list[int]) -> int:\n",
    "    n = len(arr)\n",
    "    total = (n * (arr[0]+ arr[-1])) / 2\n",
    "    return int(total)\n",
    "\n",
    "if __name__ == \"__main__\":\n",
    "    n = 1000000\n",
    "    nums = create_num_array(n)\n",
    "    nums = nums[::-1]\n",
    "    target = 6\n",
    "    \n",
    "    print(sum_for_loop(nums))\n",
    "    \n",
    "    print(sum_math_formula(nums))\n"
   ]
  },
  {
   "cell_type": "markdown",
   "metadata": {},
   "source": [
    "# 자료 구조의 중요성"
   ]
  },
  {
   "cell_type": "code",
   "execution_count": null,
   "metadata": {},
   "outputs": [],
   "source": [
    "@runtime_calculator\n",
    "def two_sum_dict(nums, target):\n",
    "    twosum = dict()\n",
    "    for i, num in enumerate(nums):\n",
    "        complement = target - num\n",
    "\n",
    "        if num in twosum:\n",
    "            return [twosum[num], i]\n",
    "        \n",
    "        twosum[complement] = i\n",
    "\n",
    "@runtime_calculator        \n",
    "def two_sum_for_loop(nums, target):\n",
    "    n = len(nums)\n",
    "    for i in range(n - 1):\n",
    "        for j in range(1, n):\n",
    "            if nums[i] + nums[j] == target:\n",
    "                return [i, j]\n",
    "\n",
    "\n",
    "if __name__ == \"__main__\":\n",
    "    \n",
    "    nums = create_num_array(1_000_000)\n",
    "    nums = nums[::-1]\n",
    "    \n",
    "    target = 6\n",
    "    \n",
    "    print(two_sum_dict(nums, target))\n",
    "    \n",
    "    print(two_sum_for_loop(nums, target))\n"
   ]
  },
  {
   "cell_type": "code",
   "execution_count": 32,
   "metadata": {},
   "outputs": [
    {
     "data": {
      "text/plain": [
       "4902.908496732026"
      ]
     },
     "execution_count": 32,
     "metadata": {},
     "output_type": "execute_result"
    }
   ],
   "source": [
    "3.000580 / 0.000612"
   ]
  },
  {
   "cell_type": "markdown",
   "metadata": {},
   "source": [
    "## 저희 목표인 그래프\n",
    "\n",
    "그래프는 왜 데이터분석에 중요할까요?\n",
    "\n",
    "일단 저희가 여행 개인화 프로그램을 만든다고 해보시죠? \n",
    "\n",
    "이렇게 지도가 있는데 배열과 딕셔너리(해시 테이블)로 저장할 수 있나요?\n",
    "\n",
    "<img height=500px src='http://keni.dmcart.gethompy.com/data/editor/3024514135_dHznEQXk_EB8C80ED959C28ECBD94EC9790ECBD9429.jpg'>\n",
    "\n",
    "그렇다면 SNS 데이터를 분석하거나, 유저가 많은 개인화 추천시스템을 만들 때는요?\n",
    "서로의 관계를 배열과 딕셔너리로 하면 효율적일까요? \n",
    "\n",
    "<img height=300px src='https://miro.medium.com/v2/resize:fit:1400/format:webp/0*KIKnUvzdIkp5zcDJ'>\n",
    "\n",
    "그래서 이진트리(binary tree) 또는 그래프도 코드로 만들 수 있습니다.\n",
    "\n",
    "<img height=300px src='https://upload.wikimedia.org/wikipedia/commons/a/ac/Network_Flow_Cropped2_-_revised.png'>\n",
    "\n",
    "그래서 제가 생각하기에는 모든 것을 조금씩 배울텐데 데이터분석에 필요한 내용을 위주로 배울 생각압니다. 일단 목표는 학자가 아닌 효율적으로 빨리 취업하는 것이잖아요? 저는 이정도를 준비해봤지만, 앞으로도 도움이 될만한 내용이 있거나, 스터디 방향에 의의가 있다면 언제든지 제기 해주세요!"
   ]
  },
  {
   "cell_type": "code",
   "execution_count": null,
   "metadata": {},
   "outputs": [],
   "source": []
  }
 ],
 "metadata": {
  "kernelspec": {
   "display_name": "Python 3",
   "language": "python",
   "name": "python3"
  },
  "language_info": {
   "codemirror_mode": {
    "name": "ipython",
    "version": 3
   },
   "file_extension": ".py",
   "mimetype": "text/x-python",
   "name": "python",
   "nbconvert_exporter": "python",
   "pygments_lexer": "ipython3",
   "version": "3.11.0"
  }
 },
 "nbformat": 4,
 "nbformat_minor": 2
}
